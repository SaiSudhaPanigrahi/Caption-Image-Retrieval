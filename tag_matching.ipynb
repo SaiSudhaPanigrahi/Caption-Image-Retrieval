{
 "cells": [
  {
   "cell_type": "code",
   "execution_count": 5,
   "metadata": {},
   "outputs": [],
   "source": [
    "%matplotlib inline\n",
    "\n",
    "import dill\n",
    "\n",
    "import numpy as np\n",
    "import pandas as pd\n",
    "from matplotlib import pyplot as plt"
   ]
  },
  {
   "cell_type": "code",
   "execution_count": 6,
   "metadata": {},
   "outputs": [],
   "source": [
    "dill.load_session('tag_matching.db')"
   ]
  },
  {
   "cell_type": "code",
   "execution_count": 95,
   "metadata": {},
   "outputs": [],
   "source": [
    "# constants\n",
    "n_train = 10000\n",
    "n_test = 2000\n",
    "top_k = 20"
   ]
  },
  {
   "cell_type": "code",
   "execution_count": 61,
   "metadata": {},
   "outputs": [],
   "source": [
    "# word preprocessing\n",
    "import re\n",
    "from nltk.stem.snowball import EnglishStemmer\n",
    "from nltk.corpus import stopwords\n",
    "\n",
    "class Preprocess(object):\n",
    "    def __init__(self):\n",
    "        self.stemmer = EnglishStemmer()\n",
    "        # self.stopList = set(stopwords.words(\"english\"))\n",
    "        self.stopList = set([word.encode('ascii', 'ignore') for word in stopwords.words('english')])\n",
    "        \n",
    "    def preprocess(self, string, n_gram=1):\n",
    "        \n",
    "        # replace special character with space\n",
    "        string = re.sub(r'[^a-zA-Z0-9 ]', r' ', string).encode('ascii', 'ignore')\n",
    "        \n",
    "        # Lemmatization (handles capitalization), ignoring stop word\n",
    "        # turn output to ASCII and ignore special character\n",
    "        ans = [self.stemmer.stem(word).encode('ascii', 'ignore') for word in string.split()]\n",
    "        ans = set(word for word in ans if word not in self.stopList)\n",
    "        \n",
    "        return ans"
   ]
  },
  {
   "cell_type": "code",
   "execution_count": 65,
   "metadata": {},
   "outputs": [],
   "source": [
    "# load descriptions\n",
    "descriptions_test = [set()] * n_test\n",
    "processor = Preprocess()\n",
    "for i in range(n_test):\n",
    "    with open('data/descriptions_test/' + str(i) + '.txt') as f:\n",
    "        words = f.read() # readlines()\n",
    "        descriptions_test[i] = processor.preprocess(words)"
   ]
  },
  {
   "cell_type": "code",
   "execution_count": 67,
   "metadata": {},
   "outputs": [
    {
     "name": "stdout",
     "output_type": "stream",
     "text": [
      "set(['plate', 'slice', 'angel', 'sit', 'food', 'top', 'upon', 'piec', 'yellow', 'small', 'larg', 'contain', 'cake', 'spong', 'quarter', 'slab', 'floweri'])\n"
     ]
    }
   ],
   "source": [
    "print(descriptions_test[1])"
   ]
  },
  {
   "cell_type": "code",
   "execution_count": 88,
   "metadata": {},
   "outputs": [],
   "source": [
    "# load tags\n",
    "tags_test = []\n",
    "for i in range(n_test):\n",
    "    with open('data/tags_test/' + str(i) + '.txt') as f:\n",
    "        lines = f.readlines()\n",
    "        tags = []\n",
    "        for line in lines:\n",
    "            # print(tag.split(':')[1].rstrip())\n",
    "            tags.append(line.split(':')[1].rstrip())\n",
    "        tags_test.append(tags)"
   ]
  },
  {
   "cell_type": "code",
   "execution_count": 90,
   "metadata": {},
   "outputs": [
    {
     "name": "stdout",
     "output_type": "stream",
     "text": [
      "['bed', 'backpack', 'suitcase', 'tie']\n"
     ]
    }
   ],
   "source": [
    "print(tags_test[0])"
   ]
  },
  {
   "cell_type": "code",
   "execution_count": 117,
   "metadata": {},
   "outputs": [
    {
     "name": "stdout",
     "output_type": "stream",
     "text": [
      "[1619 1697 1295 1784 1501  875  801 1372   65 1485 1590  613 1861 1091\n",
      " 1081 1851  350  796 1793 1908].jpg\n",
      "set(['blue', 'cell', 'entranc', 'woman', 'planter', 'front', 'side', 'watch', 'walk', 'past', 'phone', 'doorway', 'street', 'black', 'wear', 'along', 'sidewalk', 'check', 'talk', 'build'])\n",
      "['vase']\n"
     ]
    }
   ],
   "source": [
    "# simply use tag matching\n",
    "def tag_matching(descriptions, tags, top_k):\n",
    "    scores = np.zeros(len(tags))\n",
    "    for i in range(len(tags)):\n",
    "        for tag in tags[i]:\n",
    "            if tag in descriptions: \n",
    "                scores[i] += 1\n",
    "                # print(tag, descriptions)\n",
    "        scores[i] /= len(tags[i])+1\n",
    "    # print(scores.sum())\n",
    "    rank = np.argsort(scores)[::-1]\n",
    "    return rank[:top_k]\n",
    "\n",
    "\n",
    "ans = tag_matching(descriptions_test[200], tags_test, top_k)\n",
    "print(ans)\n",
    "print(descriptions_test[0])\n",
    "print(tags_test[ans[0]])"
   ]
  },
  {
   "cell_type": "code",
   "execution_count": 121,
   "metadata": {},
   "outputs": [
    {
     "name": "stdout",
     "output_type": "stream",
     "text": [
      "[[1999.  670.  657. ...  672.  673.  674.]\n",
      " [1341. 1529. 1156. ...  457. 1812.  956.]\n",
      " [1999.  670.  657. ...  672.  673.  674.]\n",
      " ...\n",
      " [1026.  897. 1135. ... 1555. 1986.  859.]\n",
      " [1999.  670.  657. ...  672.  673.  674.]\n",
      " [1106. 1167.  405. ... 1925.  464.  926.]]\n"
     ]
    }
   ],
   "source": [
    "# do prediction on all\n",
    "test_predict = np.empty((n_test, top_k))\n",
    "for i in range(n_test):\n",
    "    ans = tag_matching(descriptions_test[i], tags_test, top_k)\n",
    "    test_predict[i] = ans\n",
    "print(test_predict)"
   ]
  },
  {
   "cell_type": "code",
   "execution_count": 129,
   "metadata": {},
   "outputs": [],
   "source": [
    "# convert prediction to '0.jpg'\n",
    "test_predict_str = [None] * n_test\n",
    "for i in range(n_test):\n",
    "    res = ' '.join([str(int(x)) + '.jpg' for x in test_predict[i]])\n",
    "    test_predict_str[i] = res # ' '.join([str(int(x)) + '.jpg' for x in test_predict[i]])"
   ]
  },
  {
   "cell_type": "code",
   "execution_count": 8,
   "metadata": {},
   "outputs": [],
   "source": [
    "# write to csv\n",
    "df = pd.DataFrame(data=test_predict_str)\n",
    "df.index = [str(x) + '.txt' for x in range(n_test)]\n",
    "df.to_csv('./tag_matching.csv', mode='w', index=True, index_label='Descritpion_ID', header=['Top_20_Image_IDs'])\n"
   ]
  },
  {
   "cell_type": "code",
   "execution_count": 7,
   "metadata": {},
   "outputs": [],
   "source": [
    "dill.dump_session('tag_matching.db')"
   ]
  },
  {
   "cell_type": "code",
   "execution_count": null,
   "metadata": {},
   "outputs": [],
   "source": []
  }
 ],
 "metadata": {
  "kernelspec": {
   "display_name": "Python 2",
   "language": "python",
   "name": "python2"
  },
  "language_info": {
   "codemirror_mode": {
    "name": "ipython",
    "version": 2
   },
   "file_extension": ".py",
   "mimetype": "text/x-python",
   "name": "python",
   "nbconvert_exporter": "python",
   "pygments_lexer": "ipython2",
   "version": "2.7.15"
  }
 },
 "nbformat": 4,
 "nbformat_minor": 2
}
