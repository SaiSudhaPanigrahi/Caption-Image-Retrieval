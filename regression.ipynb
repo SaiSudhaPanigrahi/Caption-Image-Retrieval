{
 "cells": [
  {
   "cell_type": "markdown",
   "metadata": {},
   "source": [
    "### Load"
   ]
  },
  {
   "cell_type": "code",
   "execution_count": 1,
   "metadata": {},
   "outputs": [],
   "source": [
    "from __future__ import print_function\n",
    "import os\n",
    "import csv\n",
    "import random\n",
    "import gensim\n",
    "import numpy as np\n",
    "import pandas as pd\n",
    "from scipy.spatial.distance import cdist\n",
    "from matplotlib import pyplot as plt"
   ]
  },
  {
   "cell_type": "code",
   "execution_count": 2,
   "metadata": {},
   "outputs": [],
   "source": [
    "num_predict = 20\n",
    "\n",
    "num_train = 8000\n",
    "num_dev = 2000\n",
    "num_test = 2000\n",
    "\n",
    "split_idx = list(range(num_train + num_dev))\n",
    "random.shuffle(split_idx)"
   ]
  },
  {
   "cell_type": "code",
   "execution_count": 20,
   "metadata": {},
   "outputs": [],
   "source": [
    "# Description Parsing\n",
    "ngram_range = (1,1)\n",
    "min_df = 8\n",
    "binary = True\n",
    "norm = None\n",
    "\n",
    "# ResNet Parsing\n",
    "intermediate = False\n",
    "\n",
    "# weighting\n",
    "w_i = 13 # 23\n",
    "w_t = 1"
   ]
  },
  {
   "cell_type": "markdown",
   "metadata": {},
   "source": [
    "\n",
    "### Parse Descriptions and tags\n"
   ]
  },
  {
   "cell_type": "code",
   "execution_count": 4,
   "metadata": {},
   "outputs": [
    {
     "name": "stdout",
     "output_type": "stream",
     "text": [
      "Built all d matrices!\n",
      "('d_train shape:', (8000, 2588))\n",
      "('d_dev shape:', (2000, 2588))\n",
      "('d_test shape:', (2000, 2588))\n",
      "Built all t matrices!\n",
      "('t_train shape:', (8000, 2588))\n",
      "('t_dev shape:', (2000, 2588))\n",
      "('t_test shape:', (2000, 2588))\n"
     ]
    }
   ],
   "source": [
    "from word_parser import word_parser\n",
    "w_parser = word_parser(split_idx=split_idx, num_train=num_train, num_dev=num_dev, num_test=num_test, ngram_range=ngram_range, min_df=min_df, binary=binary, norm=norm)\n",
    "d_train, d_dev, d_test = w_parser.parse_descriptions()\n",
    "t_train, t_dev, t_test = w_parser.parse_tags()"
   ]
  },
  {
   "cell_type": "markdown",
   "metadata": {},
   "source": [
    "### Parse ResNet Features"
   ]
  },
  {
   "cell_type": "code",
   "execution_count": 5,
   "metadata": {},
   "outputs": [
    {
     "name": "stdout",
     "output_type": "stream",
     "text": [
      "Built all y matrices!\n",
      "('i_train shape:', (8000, 1000))\n",
      "('i_dev shape:', (2000, 1000))\n",
      "('i_test shape:', (2000, 1000))\n"
     ]
    }
   ],
   "source": [
    "from parse_features import *\n",
    "i_train, i_dev, i_test = parse_features(split_idx, num_train, num_dev, num_test, intermediate=intermediate)"
   ]
  },
  {
   "cell_type": "markdown",
   "metadata": {},
   "source": [
    "### Regression"
   ]
  },
  {
   "cell_type": "code",
   "execution_count": 17,
   "metadata": {},
   "outputs": [
    {
     "name": "stdout",
     "output_type": "stream",
     "text": [
      "Fitting 10 folds for each of 1 candidates, totalling 10 fits\n"
     ]
    },
    {
     "name": "stderr",
     "output_type": "stream",
     "text": [
      "[Parallel(n_jobs=1)]: Using backend SequentialBackend with 1 concurrent workers.\n",
      "[Parallel(n_jobs=1)]: Done  10 out of  10 | elapsed:   21.1s finished\n"
     ]
    },
    {
     "name": "stdout",
     "output_type": "stream",
     "text": [
      "Trained linear regression model!\n",
      "Summary of best model:\n",
      "GridSearchCV(cv=10, error_score='raise-deprecating',\n",
      "       estimator=Ridge(alpha=1.0, copy_X=True, fit_intercept=True, max_iter=None,\n",
      "   normalize=False, random_state=None, solver='auto', tol=0.001),\n",
      "       fit_params=None, iid='warn', n_jobs=None,\n",
      "       param_grid={'alpha': [10.0]}, pre_dispatch='2*n_jobs', refit=True,\n",
      "       return_train_score='warn', scoring=None, verbose=1)\n"
     ]
    }
   ],
   "source": [
    "from sklearn.linear_model import Ridge\n",
    "from sklearn.linear_model import RidgeCV\n",
    "from sklearn.model_selection import GridSearchCV\n",
    "\n",
    "# Ridge\n",
    "parameters = {\"alpha\": [10.0]}\n",
    "reg = GridSearchCV(Ridge(), parameters, cv=10, verbose=1)\n",
    "\n",
    "# Ridge\n",
    "# reg = RidgeCV(alphas=[0.1, 1.0, 10.0, 100.0, 1000.0, 10000.0])\n",
    "\n",
    "reg.fit(i_train, d_train)\n",
    "# reg_best = reg.best_estimator_\n",
    "\n",
    "print(\"Trained linear regression model!\")\n",
    "print(\"Summary of best model:\")\n",
    "print(reg)"
   ]
  },
  {
   "cell_type": "markdown",
   "metadata": {},
   "source": [
    "### Cross-Validation"
   ]
  },
  {
   "cell_type": "code",
   "execution_count": 18,
   "metadata": {},
   "outputs": [],
   "source": [
    "d_dev_pred = reg.predict(i_dev)\n",
    "dist_i = cdist(d_dev, d_dev_pred, metric='sqeuclidean')\n",
    "dist_t = cdist(d_dev, t_dev, metric='sqeuclidean')"
   ]
  },
  {
   "cell_type": "code",
   "execution_count": 21,
   "metadata": {},
   "outputs": [
    {
     "name": "stdout",
     "output_type": "stream",
     "text": [
      "('Development MAP@20:', array([0.213]))\n",
      "('Mean index of true image', 17.899)\n",
      "('Median index of true image', 5.0)\n"
     ]
    }
   ],
   "source": [
    "from scoring import *\n",
    "\n",
    "dist_all = dist_i * w_i + dist_t * w_t\n",
    "\n",
    "dist_idx = np.argsort(dist_all, axis=1)\n",
    "scoring(dist_idx, num_dev)"
   ]
  },
  {
   "cell_type": "markdown",
   "metadata": {},
   "source": [
    "### Test and write to file"
   ]
  },
  {
   "cell_type": "code",
   "execution_count": 9,
   "metadata": {},
   "outputs": [
    {
     "name": "stdout",
     "output_type": "stream",
     "text": [
      "Fitting 10 folds for each of 1 candidates, totalling 10 fits\n"
     ]
    },
    {
     "name": "stderr",
     "output_type": "stream",
     "text": [
      "[Parallel(n_jobs=1)]: Using backend SequentialBackend with 1 concurrent workers.\n",
      "[Parallel(n_jobs=1)]: Done  10 out of  10 | elapsed:   31.1s finished\n"
     ]
    }
   ],
   "source": [
    "d_train_all = np.concatenate([d_train, d_dev])\n",
    "i_train_all = np.concatenate([i_train, i_dev])\n",
    "t_train_all = np.concatenate([t_train, t_dev])\n",
    "\n",
    "reg.fit(i_train_all, d_train_all)\n",
    "\n",
    "d_test_pred = reg.predict(i_test)\n",
    "dist_i = cdist(d_test, d_test_pred, metric='sqeuclidean')\n",
    "dist_t = cdist(d_test, t_test, metric='sqeuclidean')\n",
    "\n",
    "dist_all = dist_i * w_i + dist_t * w_t\n",
    "\n",
    "dist_idx = np.argsort(dist_all, axis=1)"
   ]
  },
  {
   "cell_type": "code",
   "execution_count": 12,
   "metadata": {},
   "outputs": [],
   "source": [
    "from write_to_csv import *\n",
    "write_to_csv(dist_idx, './regression.csv', num_predict=num_predict, num_test=num_test)"
   ]
  },
  {
   "cell_type": "markdown",
   "metadata": {},
   "source": [
    "### Show Testing Result"
   ]
  },
  {
   "cell_type": "code",
   "execution_count": null,
   "metadata": {},
   "outputs": [],
   "source": [
    "# print images\n",
    "# x = 8\n",
    "img_list = [1272, 1854, 332, 1538, 111]\n",
    "\n",
    "fig, axes = plt.subplots(nrows=1, ncols=5, constrained_layout=False)\n",
    "\n",
    "# for i in range(5):\n",
    "for x, i in enumerate(img_list):\n",
    "    # img = dist_idx[x, i]\n",
    "    img = plt.imread('data/images_test/' + str(i) + '.jpg')\n",
    "    axes[x].imshow(img)\n",
    "    axes[x].set_title(i)\n",
    "# fig.suptitle('All Images', fontsize=16)\n",
    "fig.savefig('figures/neural_network.jpg')"
   ]
  },
  {
   "cell_type": "code",
   "execution_count": null,
   "metadata": {},
   "outputs": [],
   "source": []
  }
 ],
 "metadata": {
  "kernelspec": {
   "display_name": "Python 2",
   "language": "python",
   "name": "python2"
  },
  "language_info": {
   "codemirror_mode": {
    "name": "ipython",
    "version": 2
   },
   "file_extension": ".py",
   "mimetype": "text/x-python",
   "name": "python",
   "nbconvert_exporter": "python",
   "pygments_lexer": "ipython2",
   "version": "2.7.15"
  }
 },
 "nbformat": 4,
 "nbformat_minor": 2
}
